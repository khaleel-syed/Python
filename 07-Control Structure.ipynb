{
 "cells": [
  {
   "cell_type": "markdown",
   "metadata": {},
   "source": [
    "# Control structures"
   ]
  },
  {
   "cell_type": "markdown",
   "metadata": {},
   "source": [
    "A control structure is a decision-making process in programming. It is a chunk of code that analyzes values of variables and decides a direction to go based on a given condition. \n",
    "In Python there are mainly two types of Control structures: \n",
    "- ### Selection \n",
    "- ### Iteration.\n"
   ]
  },
  {
   "cell_type": "markdown",
   "metadata": {},
   "source": [
    "## Selection Statement / Conditional Statement"
   ]
  },
  {
   "cell_type": "markdown",
   "metadata": {},
   "source": [
    "Selection statements allow programmers to check a condition and based on the result\n",
    "will perform different actions.\n",
    "\n",
    "1. if Statement\n",
    "2. if...else statement\n",
    "3. if..elif..else statement\n",
    "4. Nested if statement"
   ]
  },
  {
   "cell_type": "markdown",
   "metadata": {},
   "source": [
    "if-else statements helps us to make decisions and take actions appropriate to those decisions"
   ]
  },
  {
   "cell_type": "markdown",
   "metadata": {},
   "source": [
    "### 1. if statement\n",
    "\n",
    "**syntax:**\n",
    "\n",
    "      if test_expression:\n",
    "          statement(s)"
   ]
  },
  {
   "cell_type": "markdown",
   "metadata": {},
   "source": [
    "- Here, the program evaluates the test expression and will execute statement(s) only if the text expression is **True**.\n",
    "\n",
    "- If the text expression is **False**, the statement(s) is not executed.\n",
    "\n",
    "- In Python, the body of the if statement is indicated by the **indentation**.Python uses indentation to indicate a block of code."
   ]
  },
  {
   "cell_type": "markdown",
   "metadata": {},
   "source": [
    "### Indentation \n",
    "\n",
    "Python uses indentation to mark blocks of code.\n",
    "Each line of code must be indented by the same amount to denote a block of code. Unlike most other programming languages, indentation is not used to help make the code look pretty. **Indentation is required to indicate which block of code a code or\n",
    "statement belongs to.**\n"
   ]
  },
  {
   "cell_type": "code",
   "execution_count": 1,
   "metadata": {},
   "outputs": [
    {
     "name": "stdout",
     "output_type": "stream",
     "text": [
      "welcome to python class\n"
     ]
    }
   ],
   "source": [
    "if True:\n",
    "    print(\"welcome to python class\")"
   ]
  },
  {
   "cell_type": "code",
   "execution_count": 3,
   "metadata": {},
   "outputs": [],
   "source": [
    "if False:\n",
    "    print(\"welcome to python class\")"
   ]
  },
  {
   "cell_type": "code",
   "execution_count": 5,
   "metadata": {},
   "outputs": [
    {
     "name": "stdout",
     "output_type": "stream",
     "text": [
      "Enter any number-25\n"
     ]
    }
   ],
   "source": [
    "# write a program to check given number is positive , we print an appropriate message\n",
    "\n",
    "num=float(input('Enter any number'))\n",
    "\n",
    "if num>=0:\n",
    "    print(num,'is a positive number')"
   ]
  },
  {
   "cell_type": "code",
   "execution_count": 7,
   "metadata": {},
   "outputs": [],
   "source": [
    "if -25>=0:\n",
    "    print('25 is a positive number')"
   ]
  },
  {
   "cell_type": "markdown",
   "metadata": {},
   "source": [
    "### 2.  if...else statement\n",
    "\n",
    "**syntax:**\n",
    "\n",
    "      if test_expression:\n",
    "         statement\n",
    "         \n",
    "      else:\n",
    "         statement\n",
    "         \n",
    " \n",
    "- The if..else statement evaluates test expression and will execute body of if only when test condition is **True**.\n",
    "\n",
    "- If the condition is **False**, body of else is executed. Indentation is used to separate the blocks."
   ]
  },
  {
   "cell_type": "code",
   "execution_count": 9,
   "metadata": {},
   "outputs": [
    {
     "name": "stdout",
     "output_type": "stream",
     "text": [
      "Negative number\n"
     ]
    }
   ],
   "source": [
    "# Write a program to check if the number is positive or negative and displays an appropriate message\n",
    "\n",
    "num = -25\n",
    "\n",
    "if num>=0:\n",
    "    print('Positive number')\n",
    "else:\n",
    "    print('Negative number')\n",
    "    "
   ]
  },
  {
   "cell_type": "markdown",
   "metadata": {},
   "source": [
    "### 3. if...elif...else statement\n",
    "\n",
    "**syntax:**\n",
    "\n",
    "      if test_expression:\n",
    "           statement\n",
    "           \n",
    "      elif test_expression:\n",
    "           statement\n",
    "        \n",
    "      else:\n",
    "           statement"
   ]
  },
  {
   "cell_type": "markdown",
   "metadata": {},
   "source": [
    "- The **elif** is short for else if. It allows us to check for multiple expressions.\n",
    "\n",
    "- If the condition for **if** is **False**, it checks the condition of the next **elif block** and so on.\n",
    "\n",
    "- If all the conditions are **False**, body of **else** is executed.\n",
    "\n",
    "- Only one block among the several if...elif...else blocks is executed according to the condition.\n",
    "\n",
    "- The if block can have only one else block. But it can have multiple elif blocks."
   ]
  },
  {
   "cell_type": "code",
   "execution_count": 16,
   "metadata": {},
   "outputs": [
    {
     "name": "stdout",
     "output_type": "stream",
     "text": [
      "cond-4\n"
     ]
    }
   ],
   "source": [
    "if False:\n",
    "    print('cond-1')\n",
    "elif False:\n",
    "    print('cond-2')\n",
    "elif False:\n",
    "    print('cond-3')\n",
    "else:\n",
    "    print('cond-4')"
   ]
  },
  {
   "cell_type": "code",
   "execution_count": 18,
   "metadata": {},
   "outputs": [
    {
     "name": "stdout",
     "output_type": "stream",
     "text": [
      "ENter any number-25\n",
      "Negative\n"
     ]
    }
   ],
   "source": [
    "# Write a program to check if the number is positive or negative or zero and display an appropriate message\n",
    "\n",
    "num = float(input('ENter any number'))\n",
    "\n",
    "if num>0:\n",
    "    print('Positive')\n",
    "elif num<0:\n",
    "    print('Negative')\n",
    "else:\n",
    "    print('Zero')"
   ]
  },
  {
   "cell_type": "code",
   "execution_count": 17,
   "metadata": {},
   "outputs": [],
   "source": []
  },
  {
   "cell_type": "markdown",
   "metadata": {},
   "source": [
    "### 4. Nested if statements\n",
    "\n",
    "We can have a **if...elif...else** statement inside another **if...elif...else** statement. This is called nesting in computer programming.\n",
    "\n",
    "Any number of these statements can be nested inside one another. Indentation is the only way to figure out the level of nesting."
   ]
  },
  {
   "cell_type": "code",
   "execution_count": 21,
   "metadata": {},
   "outputs": [
    {
     "name": "stdout",
     "output_type": "stream",
     "text": [
      "zero\n"
     ]
    }
   ],
   "source": [
    "# Write a program to input a number\n",
    "# check if the number is positive or\n",
    "# negative or zero and display\n",
    "# an appropriate message\n",
    "\n",
    "\n",
    "num = 0\n",
    "\n",
    "if num>=0:\n",
    "    if num==0:\n",
    "        print('zero')\n",
    "    else:\n",
    "        print('Positive')\n",
    "else:\n",
    "    print('Negative')"
   ]
  },
  {
   "cell_type": "code",
   "execution_count": null,
   "metadata": {},
   "outputs": [],
   "source": []
  },
  {
   "cell_type": "code",
   "execution_count": null,
   "metadata": {},
   "outputs": [],
   "source": [
    "#1. write a program to check if the input number is odd or even.\n"
   ]
  },
  {
   "cell_type": "code",
   "execution_count": null,
   "metadata": {},
   "outputs": [],
   "source": [
    "#2. Write a programm to check whether the given number is a two digit or three digit or four or more than four digit.\n",
    "\n",
    "num=float(input('Enter any number'))\n",
    "\n",
    "if num>9 and num<100:\n",
    "    print('Two digit number')\n",
    "elif num>=100 and num<1000:\n",
    "    print('Three digit number')\n",
    "else:\n",
    "    print('four digit number')"
   ]
  },
  {
   "cell_type": "code",
   "execution_count": null,
   "metadata": {},
   "outputs": [],
   "source": [
    "#3. Write a program ,to print Grades according to score\n",
    "# score greaterthan or equal to 99 then \"Grade A\"\n",
    "# score greaterthan or equal to 75 then \"Grade B\"\n",
    "# score greaterthan or equal to 60 then \"Grade C\"\n",
    "# score greaterthan or equal to 35 then \"Grade D\"\n",
    "# score less than 35 then \"Grade E\"\n",
    "\n"
   ]
  },
  {
   "cell_type": "markdown",
   "metadata": {},
   "source": [
    "#### IF statement with List"
   ]
  },
  {
   "cell_type": "code",
   "execution_count": 1,
   "metadata": {},
   "outputs": [
    {
     "name": "stdout",
     "output_type": "stream",
     "text": [
      "Yes he is a student at this school\n"
     ]
    }
   ],
   "source": [
    "student_list = ['Ayaz', 'Athira', 'Deb', 'Priya']\n",
    "\n",
    "if 'Ayaz' in student_list:\n",
    "    print('Yes he is a student at this school')"
   ]
  },
  {
   "cell_type": "code",
   "execution_count": 3,
   "metadata": {},
   "outputs": [
    {
     "name": "stdout",
     "output_type": "stream",
     "text": [
      "No she is not a student in this school\n"
     ]
    }
   ],
   "source": [
    "if 'Anu' in student_list:\n",
    "    print('Yes she is a student in this school')\n",
    "else:\n",
    "    print('No she is not a student in this school')"
   ]
  },
  {
   "cell_type": "markdown",
   "metadata": {},
   "source": [
    "#### IF statement with Dictionary"
   ]
  },
  {
   "cell_type": "code",
   "execution_count": 4,
   "metadata": {},
   "outputs": [],
   "source": [
    "math_scores = {\n",
    "    \"Ram\": 97, \n",
    "    \"Kumar\": 35,\n",
    "    \"Kishan\": 67,\n",
    "    \"Natasha\": 73\n",
    "}"
   ]
  },
  {
   "cell_type": "code",
   "execution_count": 5,
   "metadata": {},
   "outputs": [
    {
     "name": "stdout",
     "output_type": "stream",
     "text": [
      "Yes I do have scores for Ram\n"
     ]
    }
   ],
   "source": [
    "if 'Ram' in math_scores:\n",
    "    print('Yes I do have scores for Ram')"
   ]
  },
  {
   "cell_type": "code",
   "execution_count": 6,
   "metadata": {},
   "outputs": [
    {
     "name": "stdout",
     "output_type": "stream",
     "text": [
      "No\n"
     ]
    }
   ],
   "source": [
    "if 'Ayoub' in math_scores:\n",
    "    print('Yes I do have scores for Ayoub')\n",
    "else:\n",
    "    print('No')"
   ]
  },
  {
   "cell_type": "code",
   "execution_count": null,
   "metadata": {},
   "outputs": [],
   "source": []
  },
  {
   "cell_type": "markdown",
   "metadata": {},
   "source": [
    "## Iteration"
   ]
  },
  {
   "cell_type": "markdown",
   "metadata": {},
   "source": [
    "Iteration is the repetition of some kind of process over and over again. \n",
    "\n",
    "Python’s for loop gives us an easy way to iterate over various objects. Often, you’ll iterate over a list, but we can also iterate over other Python objects such as strings and dictionaries.\n",
    "Python provides two essential looping statements:\n",
    "1. For \n",
    "2. while"
   ]
  },
  {
   "cell_type": "markdown",
   "metadata": {},
   "source": [
    "### 1. For Loop(Number of iterations are known)\n",
    "\n",
    "The for loop in Python is used to iterate over a **sequence** (list, tuple, string) or other `iterable` objects. Iterating over a sequence is called `traversal`.\n",
    "\n",
    "`Repeat actions certain number of times if we know how many times upfront ,use for loops.`\n",
    "\n",
    "**syntax:**\n",
    "\n",
    "      for val in sequence:\n",
    "  \n",
    "           Body of statement\n",
    "           \n",
    "- Here, **val** is the local variable that takes the value of the item inside the sequence on each iteration.\n",
    "\n",
    "- Loop continues until we reach the last item in the sequence. The body of **for loop** is separated from the rest of the code using indentation.\n",
    "\n"
   ]
  },
  {
   "cell_type": "markdown",
   "metadata": {},
   "source": [
    "#### What defines an iterable?"
   ]
  },
  {
   "cell_type": "markdown",
   "metadata": {},
   "source": [
    "Iterables support something called the **Iterator Protocol**.say: lists, strings and dictionaries all follow the Iterator Protocol, therefore we can use them in for loops. "
   ]
  },
  {
   "cell_type": "markdown",
   "metadata": {},
   "source": [
    "One example of an object that does not follow the protocol is an integer. If we try to give an integer to a for loop, Python will throw an error."
   ]
  },
  {
   "cell_type": "markdown",
   "metadata": {},
   "source": [
    "### range( ) Function \n",
    "\n",
    "We can generate a sequence of numbers using **range()** function.\n",
    "\n",
    "**syntax**\n",
    "\n",
    "   range(start,stop,step size). step size defaults to 1 if not provided.\n",
    "   \n",
    "   The first two arguments will be the start and stop values, and the third will be the step argument. The step is the amount that the variable is increased by after each iteration."
   ]
  },
  {
   "cell_type": "markdown",
   "metadata": {},
   "source": [
    "#### For Loop with Lists"
   ]
  },
  {
   "cell_type": "code",
   "execution_count": 2,
   "metadata": {},
   "outputs": [
    {
     "name": "stdout",
     "output_type": "stream",
     "text": [
      "Welcome to python class\n",
      "Welcome to python class\n",
      "Welcome to python class\n",
      "Welcome to python class\n",
      "Welcome to python class\n",
      "Welcome to python class\n"
     ]
    }
   ],
   "source": [
    "List = [0,1,2,3,4,5]\n",
    "\n",
    "\n",
    "for val in List:\n",
    "    print('Welcome to python class')\n",
    "\n",
    "# iterate through every element in a list means access elements present in the list in the right order one after another. "
   ]
  },
  {
   "cell_type": "code",
   "execution_count": 6,
   "metadata": {},
   "outputs": [
    {
     "name": "stdout",
     "output_type": "stream",
     "text": [
      "Apple\n",
      "Banana\n",
      "Mango\n",
      "grapes\n"
     ]
    }
   ],
   "source": [
    "# Print each fruit in a fruit list\n",
    "\n",
    "fruit = ['Apple','Banana','Mango','grapes']\n",
    "\n",
    "for val in fruit:\n",
    "    print(val)"
   ]
  },
  {
   "cell_type": "code",
   "execution_count": 16,
   "metadata": {},
   "outputs": [
    {
     "name": "stdout",
     "output_type": "stream",
     "text": [
      "120\n"
     ]
    }
   ],
   "source": [
    "# write a program to find multiplication of all numbers present in a list\n",
    "\n",
    "List = [2,3,4,5]\n",
    "mul = 1\n",
    "\n",
    "for val in List:\n",
    "    mul = mul*val\n",
    "print(mul)"
   ]
  },
  {
   "cell_type": "code",
   "execution_count": 12,
   "metadata": {},
   "outputs": [
    {
     "data": {
      "text/plain": [
       "120"
      ]
     },
     "execution_count": 12,
     "metadata": {},
     "output_type": "execute_result"
    }
   ],
   "source": [
    "mul"
   ]
  },
  {
   "cell_type": "code",
   "execution_count": 1,
   "metadata": {},
   "outputs": [],
   "source": [
    "# Write a program to find sum of all numbers present in a list\n",
    "\n",
    "sum = 0\n",
    "List = [2,3,6,4,5]\n",
    "for i in List:\n",
    "    sum = sum+i"
   ]
  },
  {
   "cell_type": "code",
   "execution_count": 2,
   "metadata": {},
   "outputs": [
    {
     "data": {
      "text/plain": [
       "20"
      ]
     },
     "execution_count": 2,
     "metadata": {},
     "output_type": "execute_result"
    }
   ],
   "source": [
    "sum"
   ]
  },
  {
   "cell_type": "code",
   "execution_count": 3,
   "metadata": {},
   "outputs": [
    {
     "name": "stdout",
     "output_type": "stream",
     "text": [
      "4\n",
      "9\n",
      "36\n",
      "16\n",
      "25\n"
     ]
    }
   ],
   "source": [
    "# Write a program to find square of all the numbers present in a list\n",
    "for i in List:\n",
    "    sq = i**2\n",
    "    print(sq)\n"
   ]
  },
  {
   "cell_type": "code",
   "execution_count": 14,
   "metadata": {},
   "outputs": [
    {
     "name": "stdout",
     "output_type": "stream",
     "text": [
      "[2, 4, 6, 8, 10, 12, 14, 16, 18, 20, 22, 24, 26, 28, 30, 32, 34, 36, 38, 40, 42, 44, 46, 48, 50, 52, 54, 56, 58, 60, 62, 64, 66, 68, 70, 72, 74, 76, 78, 80, 82, 84, 86, 88, 90, 92, 94, 96, 98, 100]\n"
     ]
    }
   ],
   "source": [
    "# write a program to to get only even number from first 100 natural numbers\n",
    "List = range(1,101)\n",
    "L = []\n",
    "for i in List:\n",
    "    if i%2==0:\n",
    "        L.append(i)\n",
    "print(L)\n",
    "    \n"
   ]
  },
  {
   "cell_type": "code",
   "execution_count": 29,
   "metadata": {},
   "outputs": [
    {
     "name": "stdout",
     "output_type": "stream",
     "text": [
      "105\n",
      "120\n",
      "135\n",
      "150\n",
      "165\n",
      "180\n",
      "195\n"
     ]
    }
   ],
   "source": [
    "# Write a program to get all values between 100 to 200 both includes which are multiplied by 3 and divisible by 5\n",
    "\n",
    "List = range(100,201)\n",
    "\n",
    "for i in List:\n",
    "    if i %3 == 0 and i%5 == 0:\n",
    "        print(i)"
   ]
  },
  {
   "cell_type": "code",
   "execution_count": 10,
   "metadata": {},
   "outputs": [
    {
     "name": "stdout",
     "output_type": "stream",
     "text": [
      "Length of the List is:  5\n"
     ]
    }
   ],
   "source": [
    "# Write a program to find number of values in a lis\n",
    "\n",
    "L = [10, 20, 30, 40, 50]\n",
    "\n",
    "count = 0\n",
    "\n",
    "for num in L:\n",
    "    count = count + 1\n",
    "    \n",
    "print('Length of the List is: ', count)    "
   ]
  },
  {
   "cell_type": "markdown",
   "metadata": {},
   "source": [
    "#### For Loop with Dictionary"
   ]
  },
  {
   "cell_type": "code",
   "execution_count": 1,
   "metadata": {},
   "outputs": [],
   "source": [
    "math_scores = {\n",
    "    \"Ram\": 97, \n",
    "    \"Kumar\": 35,\n",
    "    \"Kishan\": 67,\n",
    "    \"Natasha\": 73\n",
    "}"
   ]
  },
  {
   "cell_type": "code",
   "execution_count": 2,
   "metadata": {},
   "outputs": [
    {
     "name": "stdout",
     "output_type": "stream",
     "text": [
      "Ram\n",
      "Kumar\n",
      "Kishan\n",
      "Natasha\n"
     ]
    }
   ],
   "source": [
    "for item in math_scores:\n",
    "    print(item)"
   ]
  },
  {
   "cell_type": "code",
   "execution_count": 3,
   "metadata": {},
   "outputs": [
    {
     "name": "stdout",
     "output_type": "stream",
     "text": [
      "Ram\n",
      "Kumar\n",
      "Kishan\n",
      "Natasha\n"
     ]
    }
   ],
   "source": [
    "for key in math_scores.keys():\n",
    "    print(key)"
   ]
  },
  {
   "cell_type": "code",
   "execution_count": 4,
   "metadata": {},
   "outputs": [
    {
     "name": "stdout",
     "output_type": "stream",
     "text": [
      "97\n",
      "35\n",
      "67\n",
      "73\n"
     ]
    }
   ],
   "source": [
    "for val in math_scores.values():\n",
    "    print(val)"
   ]
  },
  {
   "cell_type": "code",
   "execution_count": 5,
   "metadata": {},
   "outputs": [
    {
     "name": "stdout",
     "output_type": "stream",
     "text": [
      "Key:  Ram  and  Value:  97\n",
      "Key:  Kumar  and  Value:  35\n",
      "Key:  Kishan  and  Value:  67\n",
      "Key:  Natasha  and  Value:  73\n"
     ]
    }
   ],
   "source": [
    "for key in math_scores:\n",
    "    print('Key: ', key, \" and \",\"Value: \",math_scores[key])"
   ]
  },
  {
   "cell_type": "code",
   "execution_count": 6,
   "metadata": {},
   "outputs": [
    {
     "data": {
      "text/plain": [
       "dict_items([('Ram', 97), ('Kumar', 35), ('Kishan', 67), ('Natasha', 73)])"
      ]
     },
     "execution_count": 6,
     "metadata": {},
     "output_type": "execute_result"
    }
   ],
   "source": [
    "math_scores.items()"
   ]
  },
  {
   "cell_type": "code",
   "execution_count": 7,
   "metadata": {},
   "outputs": [
    {
     "name": "stdout",
     "output_type": "stream",
     "text": [
      "('Ram', 97)\n",
      "('Kumar', 35)\n",
      "('Kishan', 67)\n",
      "('Natasha', 73)\n"
     ]
    }
   ],
   "source": [
    "for item in math_scores.items():\n",
    "    print(item)"
   ]
  },
  {
   "cell_type": "code",
   "execution_count": 8,
   "metadata": {},
   "outputs": [
    {
     "name": "stdout",
     "output_type": "stream",
     "text": [
      "Ram 97\n",
      "Kumar 35\n",
      "Kishan 67\n",
      "Natasha 73\n"
     ]
    }
   ],
   "source": [
    "for key, value in math_scores.items():\n",
    "    print(key, value) # Tuple Unpacking"
   ]
  },
  {
   "cell_type": "code",
   "execution_count": 9,
   "metadata": {},
   "outputs": [],
   "source": [
    "Keys = []\n",
    "Values = []\n",
    "\n",
    "for key,value in math_scores.items():\n",
    "    Keys.append(key)\n",
    "    Values.append(value)"
   ]
  },
  {
   "cell_type": "code",
   "execution_count": 10,
   "metadata": {},
   "outputs": [
    {
     "data": {
      "text/plain": [
       "['Ram', 'Kumar', 'Kishan', 'Natasha']"
      ]
     },
     "execution_count": 10,
     "metadata": {},
     "output_type": "execute_result"
    }
   ],
   "source": [
    "Keys"
   ]
  },
  {
   "cell_type": "code",
   "execution_count": 11,
   "metadata": {},
   "outputs": [
    {
     "data": {
      "text/plain": [
       "[97, 35, 67, 73]"
      ]
     },
     "execution_count": 11,
     "metadata": {},
     "output_type": "execute_result"
    }
   ],
   "source": [
    "Values"
   ]
  },
  {
   "cell_type": "markdown",
   "metadata": {},
   "source": [
    "### Nested For Loop"
   ]
  },
  {
   "cell_type": "markdown",
   "metadata": {},
   "source": [
    "Python programming language allows to use one loop inside another loop. Following section shows few examples to illustrate the concept."
   ]
  },
  {
   "cell_type": "raw",
   "metadata": {},
   "source": [
    "for iterator_var in sequence: \n",
    "    for iterator_var in sequence: \n",
    "        statements(s) \n",
    "        statements(s) "
   ]
  },
  {
   "cell_type": "code",
   "execution_count": 24,
   "metadata": {},
   "outputs": [
    {
     "name": "stdout",
     "output_type": "stream",
     "text": [
      "1 A\n",
      "1 B\n",
      "1 C\n",
      "2 A\n",
      "2 B\n",
      "2 C\n",
      "3 A\n",
      "3 B\n",
      "3 C\n",
      "4 A\n",
      "4 B\n",
      "4 C\n"
     ]
    }
   ],
   "source": [
    "for i in range(1,5):\n",
    "    for j in ['A','B','C']:\n",
    "        print(i,j)"
   ]
  },
  {
   "cell_type": "code",
   "execution_count": 1,
   "metadata": {},
   "outputs": [
    {
     "data": {
      "text/plain": [
       "[10, 9, 15, 10]"
      ]
     },
     "execution_count": 1,
     "metadata": {},
     "output_type": "execute_result"
    }
   ],
   "source": [
    "# write a program to sum of values in two lists\n",
    "A = [5,3,6,7]\n",
    "B = [5,6,9,3]\n",
    "\n",
    "# requried output C = [10,9,15,10]\n",
    "C = []\n",
    "\n",
    "for i in range(len(A)):\n",
    "    C.append(A[i] + B[i])\n",
    "    \n",
    "C\n",
    "    "
   ]
  },
  {
   "cell_type": "code",
   "execution_count": 3,
   "metadata": {},
   "outputs": [
    {
     "data": {
      "text/plain": [
       "[3125, 729, 10077696, 343]"
      ]
     },
     "execution_count": 3,
     "metadata": {},
     "output_type": "execute_result"
    }
   ],
   "source": [
    "# Raise values in list A by values in list B\n",
    "A = [5,3,6,7]\n",
    "B = [5,6,9,3]\n",
    "C = []\n",
    "\n",
    "for i in range(len(A)):\n",
    "    C.append(A[i]**B[i])\n",
    "    \n",
    "C\n",
    "    "
   ]
  },
  {
   "cell_type": "markdown",
   "metadata": {},
   "source": [
    "### For Loop with Else Block"
   ]
  },
  {
   "cell_type": "markdown",
   "metadata": {},
   "source": [
    "A for loop can have an optional else block as well. The else part is executed if the items in the sequence used in for loop exhausts"
   ]
  },
  {
   "cell_type": "code",
   "execution_count": 9,
   "metadata": {},
   "outputs": [
    {
     "name": "stdout",
     "output_type": "stream",
     "text": [
      "2\n",
      "3\n",
      "6\n",
      "9\n",
      "4\n",
      "Loop Completed\n"
     ]
    }
   ],
   "source": [
    "L = [2,3,6,9,4]\n",
    "\n",
    "for i in L:\n",
    "    print(i)\n",
    "else:\n",
    "    print(\"Loop Completed\")"
   ]
  },
  {
   "cell_type": "markdown",
   "metadata": {},
   "source": [
    "**break** statement can be used to stop a for loop. In such case, the else part is ignored.\n",
    "\n",
    "Hence, a for loop's else part runs if no break occurs.\n",
    "\n",
    "Here is an example to illustrate this."
   ]
  },
  {
   "cell_type": "code",
   "execution_count": 1,
   "metadata": {},
   "outputs": [
    {
     "name": "stdout",
     "output_type": "stream",
     "text": [
      "6\n"
     ]
    }
   ],
   "source": [
    "L = [1,3,6,9,4]\n",
    "\n",
    "for i in L:\n",
    "    if i%2 == 0:\n",
    "        print(i)\n",
    "        break\n",
    "else:\n",
    "    print(\"Loop Completed\")"
   ]
  },
  {
   "cell_type": "markdown",
   "metadata": {},
   "source": [
    "### While(Number of iterations are unknown)\n",
    "\n",
    "The while loop in Python is used to iterate over a block of code as long as the test expression (condition) is true.\n",
    "\n",
    "We generally use this loop when we don't know beforehand, the number of times to iterate.\n",
    "\n",
    "In while loop, test expression is checked first. The body of the loop is entered only if the test_expression evaluates to True. After one iteration, the test expression is checked again. This process continues until the test_expression evaluates to False.\n",
    "\n",
    "In Python, the body of the while loop is determined through indentation.\n",
    "\n",
    "Body starts with indentation and the first unindented line marks the end.\n",
    "\n",
    "Python interprets any non-zero value as True. None and 0 are interpreted as False.\n",
    "\n",
    "**Syntax:**\n",
    "\n",
    "    while test_expression:\n",
    "    \n",
    "          Body of while loop"
   ]
  },
  {
   "cell_type": "markdown",
   "metadata": {},
   "source": [
    "**NOTE** \n",
    "\n",
    "If a condition never becomes FALSE, a loop becomes an infinite loop."
   ]
  },
  {
   "cell_type": "code",
   "execution_count": 48,
   "metadata": {},
   "outputs": [],
   "source": [
    "count  = 6\n",
    "\n",
    "while count<5:\n",
    "    print(count)\n",
    "# Enter a while loop only when condtion is true means stay in the loop so long as the condition REMAINS true."
   ]
  },
  {
   "cell_type": "code",
   "execution_count": null,
   "metadata": {},
   "outputs": [],
   "source": [
    "# This will cause an infinite loop \n",
    "count = 4\n",
    "\n",
    "while count<5:\n",
    "    print(count)"
   ]
  },
  {
   "cell_type": "markdown",
   "metadata": {},
   "source": [
    "**Note**\n",
    "\n",
    "When we use while loop ,the value of the count has to be updated in the loop,\n",
    "means count should be changed so condtion evaluates to False."
   ]
  },
  {
   "cell_type": "code",
   "execution_count": 2,
   "metadata": {},
   "outputs": [
    {
     "name": "stdout",
     "output_type": "stream",
     "text": [
      "A\n",
      "C\n",
      "D\n",
      "E\n",
      "F\n"
     ]
    }
   ],
   "source": [
    "L = ['A','C','D','E','F']\n",
    "list_len = len(l)\n",
    "count = 0\n",
    "\n",
    "while count < list_len:\n",
    "    print(L[count])\n",
    "    count += 1"
   ]
  },
  {
   "cell_type": "code",
   "execution_count": 49,
   "metadata": {},
   "outputs": [
    {
     "name": "stdout",
     "output_type": "stream",
     "text": [
      "The sum is 55\n"
     ]
    }
   ],
   "source": [
    "# Program to add natural\n",
    "# numbers upto \n",
    "# sum = 1+2+3+...+n\n",
    "\n",
    "# To take input from the user,\n",
    "# n = int(input(\"Enter n: \"))\n",
    "\n",
    "n = 10\n",
    "\n",
    "# initialize sum and counter\n",
    "sum = 0\n",
    "i = 1\n",
    "\n",
    "while i <= n:\n",
    "    sum = sum + i\n",
    "    i = i+1    # update counter\n",
    "\n",
    "# print the sum\n",
    "print(\"The sum is\", sum)"
   ]
  },
  {
   "cell_type": "code",
   "execution_count": 50,
   "metadata": {},
   "outputs": [
    {
     "data": {
      "text/plain": [
       "5"
      ]
     },
     "execution_count": 50,
     "metadata": {},
     "output_type": "execute_result"
    }
   ],
   "source": [
    "tech_companies = ['Google', 'Apple', 'Facebook', 'Uber', 'Intel']\n",
    "\n",
    "list_len = len(tech_companies)\n",
    "\n",
    "list_len"
   ]
  },
  {
   "cell_type": "code",
   "execution_count": 51,
   "metadata": {},
   "outputs": [
    {
     "name": "stdout",
     "output_type": "stream",
     "text": [
      "Google\n",
      "Apple\n",
      "Facebook\n",
      "Uber\n",
      "Intel\n"
     ]
    }
   ],
   "source": [
    "count = 0\n",
    "\n",
    "while count < list_len:\n",
    "    print(tech_companies[count])\n",
    "    \n",
    "    count = count + 1"
   ]
  },
  {
   "cell_type": "code",
   "execution_count": null,
   "metadata": {},
   "outputs": [],
   "source": []
  },
  {
   "cell_type": "code",
   "execution_count": null,
   "metadata": {},
   "outputs": [],
   "source": []
  },
  {
   "cell_type": "markdown",
   "metadata": {},
   "source": [
    "### Break Statement\n",
    "\n",
    "The break statement is used to terminate the loop when a certain condition is met."
   ]
  },
  {
   "cell_type": "code",
   "execution_count": 11,
   "metadata": {},
   "outputs": [
    {
     "name": "stdout",
     "output_type": "stream",
     "text": [
      "3\n",
      "value found\n"
     ]
    }
   ],
   "source": [
    "for i in range(5):\n",
    "    if i==3:\n",
    "        print(i)\n",
    "        print(\"value found\")\n",
    "        break"
   ]
  },
  {
   "cell_type": "code",
   "execution_count": 53,
   "metadata": {},
   "outputs": [
    {
     "name": "stdout",
     "output_type": "stream",
     "text": [
      "Enter a number: 10\n",
      "You entered:  10\n",
      "\n",
      "Final number which caused us to break out of the loop 10\n"
     ]
    }
   ],
   "source": [
    "\n",
    "while True:\n",
    "    num = int(input('Enter a number: '))\n",
    "    \n",
    "    print('You entered: ', num)\n",
    "    if num % 5 == 0:\n",
    "        break\n",
    "    \n",
    "print('\\nFinal number which caused us to break out of the loop', num)    "
   ]
  },
  {
   "cell_type": "code",
   "execution_count": null,
   "metadata": {},
   "outputs": [],
   "source": [
    "num = 8\n",
    "\n",
    "while True:\n",
    "    num = int(input('Enter a number: '))\n",
    "    \n",
    "    if num % 2 == 0:\n",
    "        continue\n",
    "    \n",
    "    print('\\nYou entered: ', num)\n",
    "    \n",
    "    if num % 5 == 0:\n",
    "        break\n",
    "    \n",
    "print('\\nFinal number which caused us to break out of the loop', num)    "
   ]
  },
  {
   "cell_type": "code",
   "execution_count": 2,
   "metadata": {},
   "outputs": [],
   "source": [
    "# Exit the loop when you found \"banana\":\n",
    "\n",
    "fruit = ['apple','cherry','banana','mango','orange']\n",
    "\n"
   ]
  },
  {
   "cell_type": "code",
   "execution_count": 1,
   "metadata": {},
   "outputs": [],
   "source": [
    "# Exit the loop when you found \"banana\", but this time the break comes before the print:\n",
    "\n",
    "fruit = ['apple','cherry','banana','mango','orange']\n",
    "\n",
    "\n"
   ]
  },
  {
   "cell_type": "markdown",
   "metadata": {},
   "source": [
    "### Continue statement\n",
    "\n",
    "With the continue statement we can stop the current iteration of the loop, and continue with the next:"
   ]
  },
  {
   "cell_type": "code",
   "execution_count": 13,
   "metadata": {},
   "outputs": [
    {
     "name": "stdout",
     "output_type": "stream",
     "text": [
      "0\n",
      "1\n",
      "2\n",
      "3\n",
      "4\n",
      "value found\n",
      "6\n",
      "7\n",
      "8\n",
      "9\n"
     ]
    }
   ],
   "source": [
    "for i in range(10):\n",
    "    if i == 5:\n",
    "        print(\"value found\")\n",
    "        continue\n",
    "    else:\n",
    "        print(i)"
   ]
  },
  {
   "cell_type": "code",
   "execution_count": null,
   "metadata": {},
   "outputs": [],
   "source": []
  }
 ],
 "metadata": {
  "kernelspec": {
   "display_name": "Python 3",
   "language": "python",
   "name": "python3"
  },
  "language_info": {
   "codemirror_mode": {
    "name": "ipython",
    "version": 3
   },
   "file_extension": ".py",
   "mimetype": "text/x-python",
   "name": "python",
   "nbconvert_exporter": "python",
   "pygments_lexer": "ipython3",
   "version": "3.6.5"
  }
 },
 "nbformat": 4,
 "nbformat_minor": 2
}

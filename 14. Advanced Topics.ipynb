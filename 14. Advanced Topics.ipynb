{
 "cells": [
  {
   "cell_type": "markdown",
   "metadata": {},
   "source": [
    "## Links\n",
    "\n",
    "**1. Closures** : [this documentation](https://www.programiz.com/python-programming/closure)\n",
    "\n",
    "A Closure is a function object that remembers values in enclosing scopes even if they are not present in memory.\n"
   ]
  },
  {
   "cell_type": "markdown",
   "metadata": {},
   "source": [
    "**2.Getters and Setters** : [this documentation](https://www.geeksforgeeks.org/getter-and-setter-in-python/)\n",
    "    \n",
    "- A getter is a method that gets the value of a property. In OOPs this helps to access private attributes from a class.\n",
    "- A setter is a method that sets the value of a property. In OOPs this helps to set the value to private attributes in a class.\n",
    "- Basically, using getters and setters ensures data encapsulation.Reasons we use setters and getters are:"
   ]
  },
  {
   "cell_type": "code",
   "execution_count": 24,
   "metadata": {},
   "outputs": [
    {
     "name": "stdout",
     "output_type": "stream",
     "text": [
      "hello\n"
     ]
    }
   ],
   "source": [
    "def printhello():\n",
    "    print(\"hello\")\n",
    "    \n",
    "a = printhello()"
   ]
  },
  {
   "cell_type": "code",
   "execution_count": 30,
   "metadata": {},
   "outputs": [
    {
     "name": "stdout",
     "output_type": "stream",
     "text": [
      "a= 20\n"
     ]
    }
   ],
   "source": [
    "def outerfunction():\n",
    "    global a\n",
    "    a = 20\n",
    "    def innerFunction():\n",
    "        global a\n",
    "        a = 30\n",
    "        print('a=',a)\n",
    "a = 10\n",
    "outerfunction()\n",
    "print('a=',a)"
   ]
  },
  {
   "cell_type": "code",
   "execution_count": 32,
   "metadata": {},
   "outputs": [
    {
     "name": "stdout",
     "output_type": "stream",
     "text": [
      "Java\n"
     ]
    }
   ],
   "source": [
    "class Foo: \n",
    "    def printLine(self, line='Python'): \n",
    "        print(line)\n",
    "        \n",
    "ol = Foo()\n",
    "ol.printLine(\"Java\")"
   ]
  },
  {
   "cell_type": "code",
   "execution_count": 37,
   "metadata": {},
   "outputs": [
    {
     "name": "stdout",
     "output_type": "stream",
     "text": [
      "1 1\n"
     ]
    }
   ],
   "source": [
    "class Point:\n",
    "    def __init__ (self, x = 0, y = 0):\n",
    "        self.x = x+1\n",
    "        self.y = y+1\n",
    "\n",
    "p1 = Point()\n",
    "print(p1.x, p1.y)\n"
   ]
  },
  {
   "cell_type": "code",
   "execution_count": 40,
   "metadata": {},
   "outputs": [
    {
     "name": "stdout",
     "output_type": "stream",
     "text": [
      "4 6\n"
     ]
    }
   ],
   "source": [
    "class Point:\n",
    "    def __init__(self, x = 0, y = 0): \n",
    "        self.x = x\n",
    "        self.y = y\n",
    "    def __sub__(self,others):\n",
    "        x = self.x + others.x\n",
    "        y = self.y + others.y\n",
    "        return Point(x,y)\n",
    "\n",
    "\n",
    "p1 = Point(3,4)\n",
    "p2 = Point(1,2)\n",
    "result = p1 - p2\n",
    "print(result.x,result.y)"
   ]
  },
  {
   "cell_type": "code",
   "execution_count": 43,
   "metadata": {},
   "outputs": [
    {
     "data": {
      "text/plain": [
       "['.ipynb_checkpoints',\n",
       " '01-Basics.ipynb',\n",
       " '02-Lists.ipynb',\n",
       " '03-Tuples.ipynb',\n",
       " '05-Sets & Disctionarys.ipynb',\n",
       " '06-strings.ipynb',\n",
       " '07-Control Structure.ipynb',\n",
       " '08-Functions.ipynb',\n",
       " '09-Iterators and Generators.ipynb',\n",
       " '09-OOP.ipynb',\n",
       " '10-Input and Output Functions.ipynb',\n",
       " '11-Comprehensions.ipynb',\n",
       " '12-RegularExpression.ipynb',\n",
       " '13-File Handling.ipynb',\n",
       " '14. Advanced Topics.ipynb',\n",
       " 'assignment 1_Answers.ipynb',\n",
       " 'assignment 1_Questions.ipynb',\n",
       " 'Class_30.ipynb',\n",
       " 'Comprehension.ipynb',\n",
       " 'Error Exception Handling.ipynb',\n",
       " 'Excercise.ipynb',\n",
       " 'Exercise solutions.ipynb',\n",
       " 'OOP.pptx',\n",
       " 'pyecon.pdf',\n",
       " 'Python_Basics.pptx',\n",
       " 'Python_Modules.ipynb',\n",
       " 'test.txt',\n",
       " 'testfile',\n",
       " 'Untitled.ipynb']"
      ]
     },
     "execution_count": 43,
     "metadata": {},
     "output_type": "execute_result"
    }
   ],
   "source": [
    "import os\n",
    "\n",
    "os.listdir()"
   ]
  },
  {
   "cell_type": "code",
   "execution_count": 44,
   "metadata": {},
   "outputs": [
    {
     "name": "stdout",
     "output_type": "stream",
     "text": [
      "2.0\n"
     ]
    }
   ],
   "source": [
    "number = 5.0 \n",
    "try: \n",
    "    r = 10/number \n",
    "    print(r) \n",
    "except: \n",
    "    print(\"Oops! Error occurred.\") \n"
   ]
  },
  {
   "cell_type": "code",
   "execution_count": 48,
   "metadata": {},
   "outputs": [
    {
     "name": "stdout",
     "output_type": "stream",
     "text": [
      "Python is a awesome\n"
     ]
    }
   ],
   "source": [
    "def printLine(text):\n",
    "    print(text,'is a awesome')\n",
    "printLine(\"Python\")"
   ]
  },
  {
   "cell_type": "code",
   "execution_count": 49,
   "metadata": {},
   "outputs": [
    {
     "ename": "SyntaxError",
     "evalue": "unexpected EOF while parsing (<ipython-input-49-bb85f9b21f1d>, line 2)",
     "output_type": "error",
     "traceback": [
      "\u001b[1;36m  File \u001b[1;32m\"<ipython-input-49-bb85f9b21f1d>\"\u001b[1;36m, line \u001b[1;32m2\u001b[0m\n\u001b[1;33m    \u001b[0m\n\u001b[1;37m    ^\u001b[0m\n\u001b[1;31mSyntaxError\u001b[0m\u001b[1;31m:\u001b[0m unexpected EOF while parsing\n"
     ]
    }
   ],
   "source": [
    "def heloo():\n",
    "    "
   ]
  },
  {
   "cell_type": "code",
   "execution_count": 51,
   "metadata": {},
   "outputs": [
    {
     "name": "stdout",
     "output_type": "stream",
     "text": [
      "hello ('Frodo', 'Sauron')\n"
     ]
    }
   ],
   "source": [
    "def greetperson(*name):\n",
    "    print(\"hello\",name)\n",
    "    \n",
    "greetperson('Frodo','Sauron')"
   ]
  },
  {
   "cell_type": "code",
   "execution_count": 52,
   "metadata": {},
   "outputs": [
    {
     "name": "stdout",
     "output_type": "stream",
     "text": [
      "10\n"
     ]
    }
   ],
   "source": [
    "def Foo(x):\n",
    "    if (x == 1):\n",
    "        return 1\n",
    "    else:\n",
    "        return x+Foo(x-1)\n",
    "print(Foo(4))"
   ]
  },
  {
   "cell_type": "code",
   "execution_count": 54,
   "metadata": {},
   "outputs": [],
   "source": [
    "if None:\n",
    "    print(\"hello\")"
   ]
  },
  {
   "cell_type": "code",
   "execution_count": 55,
   "metadata": {},
   "outputs": [
    {
     "name": "stdout",
     "output_type": "stream",
     "text": [
      "PYTHON"
     ]
    }
   ],
   "source": [
    "for char in 'PYTHON STRING':\n",
    "    if char == \" \":\n",
    "        break\n",
    "    print(char,end=\"\")\n",
    "    \n",
    "    if char ==\"O\":\n",
    "        continue"
   ]
  },
  {
   "cell_type": "code",
   "execution_count": 58,
   "metadata": {},
   "outputs": [
    {
     "data": {
      "text/plain": [
       "1.7"
      ]
     },
     "execution_count": 58,
     "metadata": {},
     "output_type": "execute_result"
    }
   ],
   "source": [
    "import numpy as np\n",
    "np.round(1.73,1)"
   ]
  },
  {
   "cell_type": "code",
   "execution_count": null,
   "metadata": {},
   "outputs": [],
   "source": [
    "round()"
   ]
  },
  {
   "cell_type": "code",
   "execution_count": 13,
   "metadata": {},
   "outputs": [],
   "source": [
    "def Foo(n):\n",
    "    def multiplier(x):\n",
    "        return x*n\n",
    "    return multiplier"
   ]
  },
  {
   "cell_type": "code",
   "execution_count": 17,
   "metadata": {},
   "outputs": [],
   "source": [
    "a = Foo(5)\n",
    "b = Foo(5)"
   ]
  },
  {
   "cell_type": "code",
   "execution_count": 19,
   "metadata": {},
   "outputs": [
    {
     "data": {
      "text/plain": [
       "50"
      ]
     },
     "execution_count": 19,
     "metadata": {},
     "output_type": "execute_result"
    }
   ],
   "source": [
    "a(b(2))"
   ]
  },
  {
   "cell_type": "code",
   "execution_count": 23,
   "metadata": {},
   "outputs": [
    {
     "name": "stdout",
     "output_type": "stream",
     "text": [
      "I got decorated\n",
      "Iam ordinary\n"
     ]
    }
   ],
   "source": [
    "def make_pretty(func):\n",
    "    def inner():\n",
    "        print(\"I got decorated\")\n",
    "        func()\n",
    "    return inner\n",
    "def ordinary():\n",
    "    print(\"Iam ordinary\")\n",
    "    \n",
    "pretty = make_pretty(ordinary)\n",
    "pretty()"
   ]
  },
  {
   "cell_type": "code",
   "execution_count": null,
   "metadata": {},
   "outputs": [],
   "source": []
  }
 ],
 "metadata": {
  "kernelspec": {
   "display_name": "Python 3",
   "language": "python",
   "name": "python3"
  },
  "language_info": {
   "codemirror_mode": {
    "name": "ipython",
    "version": 3
   },
   "file_extension": ".py",
   "mimetype": "text/x-python",
   "name": "python",
   "nbconvert_exporter": "python",
   "pygments_lexer": "ipython3",
   "version": "3.7.1"
  }
 },
 "nbformat": 4,
 "nbformat_minor": 2
}

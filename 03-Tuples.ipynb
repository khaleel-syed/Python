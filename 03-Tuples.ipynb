{
 "cells": [
  {
   "cell_type": "markdown",
   "metadata": {},
   "source": [
    "# Content"
   ]
  },
  {
   "cell_type": "markdown",
   "metadata": {},
   "source": [
    "  ##### 1.Tuples\n",
    "  ##### 2.Tuple Packing\n",
    "  ##### 3.Tuple unpacking\n",
    "  ##### 4.Accessing items of a tuple\n",
    "  ##### 5.Slicing a tuple\n",
    "  ##### 6.Functions\n",
    "  ##### 7.Methods"
   ]
  },
  {
   "cell_type": "code",
   "execution_count": null,
   "metadata": {},
   "outputs": [],
   "source": []
  },
  {
   "cell_type": "markdown",
   "metadata": {},
   "source": [
    "## Tuples\n",
    "\n",
    "- Tuple is an ordered sequence of items same as list.The only difference is that tuples are `immutable`. Tuples once created cannot be modified.\n",
    "\n",
    "- Tuples are used to write-protect data and are usually faster than list as it cannot change dynamically.\n",
    "\n",
    "- Tuples can be thought as a **read - only** list.\n",
    "\n",
    "- It is defined within parentheses () where items are separated by commas."
   ]
  },
  {
   "cell_type": "code",
   "execution_count": null,
   "metadata": {},
   "outputs": [],
   "source": [
    "# Create a tuple of 'abcd', 786 , 2.23, 'john', 70.2\n",
    "Tuple = ('abcd',786,2.23,'john',70.2)\n",
    "print(Tuple)"
   ]
  },
  {
   "cell_type": "code",
   "execution_count": null,
   "metadata": {},
   "outputs": [],
   "source": []
  },
  {
   "cell_type": "markdown",
   "metadata": {},
   "source": [
    "## Tuple packing \n",
    "\n",
    "creating a tuple without parentheses is calle tuple packing.\n",
    "\n",
    "**`syntax : var = item1,item2,item3,..`**"
   ]
  },
  {
   "cell_type": "code",
   "execution_count": null,
   "metadata": {},
   "outputs": [],
   "source": []
  },
  {
   "cell_type": "markdown",
   "metadata": {},
   "source": [
    "## Tuples unpacking\n",
    "\n",
    "Assigning values from a tuple to sequence of vriables.\n",
    "\n",
    "**`syntax:\n",
    "var = (item1,item2,item3)\n",
    "var1,var2,var3 =var`**\n"
   ]
  },
  {
   "cell_type": "code",
   "execution_count": null,
   "metadata": {},
   "outputs": [],
   "source": []
  },
  {
   "cell_type": "markdown",
   "metadata": {},
   "source": [
    "## Accessing Single Element\n",
    "\n",
    "To get a single item from a Python tuple, use its index in square brackets. Indexing begins at 0.\n",
    "\n",
    "**`syntax : tuple[index]`**"
   ]
  },
  {
   "cell_type": "code",
   "execution_count": null,
   "metadata": {},
   "outputs": [],
   "source": []
  },
  {
   "cell_type": "markdown",
   "metadata": {},
   "source": [
    "## Slicing a Tuple\n",
    "\n",
    "slicing can done with colon ( : ) operator like list slicing"
   ]
  },
  {
   "cell_type": "code",
   "execution_count": null,
   "metadata": {},
   "outputs": [],
   "source": []
  },
  {
   "cell_type": "markdown",
   "metadata": {},
   "source": [
    "## Reassigning Tuples\n",
    "\n",
    "Python tuple is immutable. So let’s try changing a value."
   ]
  },
  {
   "cell_type": "code",
   "execution_count": null,
   "metadata": {},
   "outputs": [],
   "source": []
  },
  {
   "cell_type": "markdown",
   "metadata": {},
   "source": [
    "## Built - in Tuple Functions\n",
    "\n",
    "- len(tuple)\n",
    "- max(tuple)\n",
    "- min(tuple)\n",
    "- sum(tuple)\n",
    "- sorted(tuple)  : returns a sorted version of the tuple\n",
    "- tuple()        : converts another construct into a Python tuple"
   ]
  },
  {
   "cell_type": "code",
   "execution_count": null,
   "metadata": {},
   "outputs": [],
   "source": []
  },
  {
   "cell_type": "markdown",
   "metadata": {},
   "source": [
    "### Built-in Tuple Methods\n",
    "\n",
    "- tuple.index() : returns the index of the first appearance of an item in a tuple.\n",
    "- tuple.count() : returns the number of times an item appears in the tuple."
   ]
  },
  {
   "cell_type": "code",
   "execution_count": null,
   "metadata": {},
   "outputs": [],
   "source": []
  }
 ],
 "metadata": {
  "kernelspec": {
   "display_name": "Python 3",
   "language": "python",
   "name": "python3"
  },
  "language_info": {
   "codemirror_mode": {
    "name": "ipython",
    "version": 3
   },
   "file_extension": ".py",
   "mimetype": "text/x-python",
   "name": "python",
   "nbconvert_exporter": "python",
   "pygments_lexer": "ipython3",
   "version": "3.7.1"
  }
 },
 "nbformat": 4,
 "nbformat_minor": 2
}
